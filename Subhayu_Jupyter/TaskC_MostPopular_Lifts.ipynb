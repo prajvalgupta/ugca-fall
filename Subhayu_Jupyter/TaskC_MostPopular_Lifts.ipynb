{
 "cells": [
  {
   "cell_type": "markdown",
   "metadata": {},
   "source": [
    "## Popularity Calculation"
   ]
  },
  {
   "cell_type": "code",
   "execution_count": 1,
   "metadata": {},
   "outputs": [],
   "source": [
    "import nltk\n",
    "from nltk import ngrams, FreqDist\n",
    "from nltk.tokenize import sent_tokenize, word_tokenize, RegexpTokenizer\n",
    "from nltk.corpus import stopwords, webtext\n",
    "import numpy as np\n",
    "import pandas as pd\n",
    "import matplotlib.pyplot as plt\n",
    "from itertools import groupby\n",
    "from collections import Counter"
   ]
  },
  {
   "cell_type": "code",
   "execution_count": 2,
   "metadata": {},
   "outputs": [
    {
     "name": "stderr",
     "output_type": "stream",
     "text": [
      "[nltk_data] Downloading package averaged_perceptron_tagger to\n",
      "[nltk_data]     /Users/subhayuchakravarty/nltk_data...\n",
      "[nltk_data]   Package averaged_perceptron_tagger is already up-to-\n",
      "[nltk_data]       date!\n"
     ]
    },
    {
     "data": {
      "text/plain": [
       "True"
      ]
     },
     "execution_count": 2,
     "metadata": {},
     "output_type": "execute_result"
    }
   ],
   "source": [
    "stop = stopwords.words('english')\n",
    "stop.extend(['thing','anything','much','something','My','We','my','we','lot','day','get','dealer','way'])\n",
    "nltk.download('averaged_perceptron_tagger')"
   ]
  },
  {
   "cell_type": "code",
   "execution_count": 3,
   "metadata": {},
   "outputs": [
    {
     "data": {
      "text/plain": [
       "(5164, 4)"
      ]
     },
     "execution_count": 3,
     "metadata": {},
     "output_type": "execute_result"
    }
   ],
   "source": [
    "df = pd.read_csv('posts.csv')\n",
    "df.shape"
   ]
  },
  {
   "cell_type": "code",
   "execution_count": 4,
   "metadata": {},
   "outputs": [],
   "source": [
    "df['comments'] = df['comments'].astype(str)\n",
    "mask = [isinstance(item, (str)) for item in df['comments']]\n",
    "df = df.loc[mask]\n",
    "df['allcomments'] = df['comments']"
   ]
  },
  {
   "cell_type": "code",
   "execution_count": 5,
   "metadata": {},
   "outputs": [],
   "source": [
    "# Car models to be replaced with Brand name\n",
    "audis=['A3','A4','S4','S3']\n",
    "acuras=['TLX','ILX','TL']\n",
    "\n",
    "# Synonymous words for replacement\n",
    "performwords=['powerful','power','mileage','speed','transmission']\n",
    "stylewords=['look','looks','stylish','gorgeous','classy']\n",
    "luxurywords=['comfort','convenience','high-end','luxurious','expensive','fancy','grand']\n",
    "costwords=['costs','cheap','prices','pricing','economic']\n",
    "bigwords=['big','spacious','space','room','huge','leg-space','bigger']"
   ]
  },
  {
   "cell_type": "code",
   "execution_count": 6,
   "metadata": {},
   "outputs": [],
   "source": [
    "# Replacements\n",
    "for audimodel in audis:\n",
    "    df['comments'] = df['comments'].str.replace(audimodel, 'Audi')\n",
    "for acuramodel in acuras:\n",
    "    df['comments'] = df['comments'].str.replace(acuramodel, \"Acura\")\n",
    "df['comments'] = df['comments'].str.replace('MB', \"Mercedes\")\n",
    "df['comments'] = df['comments'].str.replace('VW', \"Volkswagen\")\n",
    "\n",
    "\n",
    "for luxury in luxurywords:\n",
    "    df['comments'] = df['comments'].str.replace(luxury, 'luxury')\n",
    "for performance in performwords:\n",
    "    df['comments'] = df['comments'].str.replace(performance, \"performance\")\n",
    "for style in stylewords:\n",
    "    df['comments'] = df['comments'].str.replace(style, \"style\")\n",
    "for cost in costwords:\n",
    "    df['comments'] = df['comments'].str.replace(cost, \"price\")\n",
    "for big in bigwords:\n",
    "    df['comments'] = df['comments'].str.replace(big, \"space\")"
   ]
  },
  {
   "cell_type": "code",
   "execution_count": 7,
   "metadata": {},
   "outputs": [],
   "source": [
    "def removeStop(wordsList):\n",
    "    return [i for i in wordsList if i not in stop]"
   ]
  },
  {
   "cell_type": "code",
   "execution_count": 8,
   "metadata": {},
   "outputs": [
    {
     "name": "stdout",
     "output_type": "stream",
     "text": [
      "[('still', 'RB'), ('Kia', 'NNP'), ('4', 'CD'), ('cars', 'NNS'), ('though', 'IN'), ('An', 'DT'), ('Audi', 'NNP'), ('Need', 'NNP'), ('schedule', 'NN'), ('return', 'NN'), ('miles', 'NNS'), ('promised', 'VBD'), ('drive', 'NN'), ('least', 'NN'), ('twice', 'JJ'), ('week', 'NN'), ('work', 'NN'), ('tomorrow', 'NN'), ('thurs', 'VBZ'), ('Probably', 'RB'), ('return', 'JJ'), ('weekend', 'NN'), ('Due', 'NNP'), ('date', 'NN'), ('Sept', 'VBD'), ('3rd', 'CD')]\n"
     ]
    }
   ],
   "source": [
    "tokenizer=RegexpTokenizer(r'\\w+')\n",
    "tagList=[]\n",
    "for com in df['comments']:\n",
    "    wordsList = tokenizer.tokenize(com)\n",
    "    wordsList = removeStop(wordsList)\n",
    "    tagged = nltk.pos_tag(wordsList) \n",
    "    tagList.append(tagged)\n",
    "print(tagList[0])"
   ]
  },
  {
   "cell_type": "code",
   "execution_count": 9,
   "metadata": {},
   "outputs": [],
   "source": [
    "wordSoup = [y for x in tagList for y in x]"
   ]
  },
  {
   "cell_type": "code",
   "execution_count": 10,
   "metadata": {},
   "outputs": [
    {
     "data": {
      "text/plain": [
       "[(('Audi', 'NNP'), 2605),\n",
       " (('Acura', 'NNP'), 1721),\n",
       " (('BMW', 'NNP'), 1414),\n",
       " (('AWD', 'NNP'), 444),\n",
       " (('Mercedes', 'NNP'), 414),\n",
       " (('Cadillac', 'NNP'), 366),\n",
       " (('ELLPS', 'NNP'), 285),\n",
       " (('Lexus', 'NNP'), 262),\n",
       " (('Sport', 'NNP'), 243),\n",
       " (('S', 'NNP'), 242),\n",
       " (('CTS', 'NNP'), 236),\n",
       " (('Accord', 'NNP'), 235),\n",
       " (('Infiniti', 'NNP'), 235),\n",
       " (('Honda', 'NNP'), 223),\n",
       " (('Volkswagen', 'NNP'), 221),\n",
       " (('A', 'NNP'), 216),\n",
       " (('So', 'NNP'), 193),\n",
       " (('C', 'NNP'), 184),\n",
       " (('MSRP', 'NNP'), 180),\n",
       " (('ATS', 'NNP'), 175)]"
      ]
     },
     "execution_count": 10,
     "metadata": {},
     "output_type": "execute_result"
    }
   ],
   "source": [
    "nounList = [word for word in wordSoup if word[1]=='NNP']\n",
    "adjectiveList = [word for word in wordSoup if (word[1]=='NN')]\n",
    "\n",
    "nouncountList = Counter(nounList)\n",
    "nouncountList.most_common(20)"
   ]
  },
  {
   "cell_type": "code",
   "execution_count": 11,
   "metadata": {},
   "outputs": [
    {
     "data": {
      "text/plain": [
       "[(('car', 'NN'), 2869),\n",
       " (('performance', 'NN'), 1425),\n",
       " (('price', 'NN'), 1042),\n",
       " (('time', 'NN'), 863),\n",
       " (('luxury', 'NN'), 646),\n",
       " (('space', 'NN'), 510),\n",
       " (('drive', 'NN'), 478),\n",
       " (('year', 'NN'), 471),\n",
       " (('engine', 'NN'), 455),\n",
       " (('series', 'NN'), 449),\n",
       " (('style', 'NN'), 419),\n",
       " (('money', 'NN'), 392),\n",
       " (('model', 'NN'), 374),\n",
       " (('course', 'NN'), 334),\n",
       " (('wife', 'NN'), 325),\n",
       " (('market', 'NN'), 320),\n",
       " (('point', 'NN'), 318),\n",
       " (('brand', 'NN'), 314),\n",
       " (('class', 'NN'), 301),\n",
       " (('cost', 'NN'), 295),\n",
       " (('sport', 'NN'), 267),\n",
       " (('lease', 'NN'), 265),\n",
       " (('today', 'NN'), 256),\n",
       " (('service', 'NN'), 255),\n",
       " (('vehicle', 'NN'), 242)]"
      ]
     },
     "execution_count": 11,
     "metadata": {},
     "output_type": "execute_result"
    }
   ],
   "source": [
    "adjcountList = Counter(adjectiveList)\n",
    "adjcountList.most_common(25)"
   ]
  },
  {
   "cell_type": "code",
   "execution_count": 21,
   "metadata": {},
   "outputs": [],
   "source": [
    "brandList = ['Acura','Audi','BMW','Cadillac','Infiniti']\n",
    "attributeList = ['luxury','performance','style','price','space']"
   ]
  },
  {
   "cell_type": "code",
   "execution_count": 22,
   "metadata": {},
   "outputs": [],
   "source": [
    "comb_count=[]\n",
    "car_count={}\n",
    "attrib_count={}\n",
    "for car in brandList:\n",
    "    num_car=0\n",
    "    for comment in df.allcomments:\n",
    "            if car in comment:\n",
    "                num_car+=1\n",
    "    car_count[car]=num_car\n",
    "    for attrib in attributeList:\n",
    "        num_combined=0\n",
    "        num_attrib=0\n",
    "        for comment in df.allcomments:\n",
    "            if car in comment and attrib in comment:\n",
    "                num_combined+=1\n",
    "            if attrib in comment:\n",
    "                num_attrib+=1\n",
    "        attrib_count[attrib]=num_attrib\n",
    "        comb_count.append(((car,attrib),num_combined))"
   ]
  },
  {
   "cell_type": "code",
   "execution_count": 23,
   "metadata": {},
   "outputs": [],
   "source": [
    "def calculate_lift(car, attrib, combined):\n",
    "    lift = (5164*combined)/(car_count[car]*attrib_count[attrib])\n",
    "    return lift"
   ]
  },
  {
   "cell_type": "code",
   "execution_count": 24,
   "metadata": {},
   "outputs": [
    {
     "data": {
      "text/plain": [
       "{'Acura,luxury': 2.9135408560311284,\n",
       " 'Acura,performance': 1.9177898550724637,\n",
       " 'Acura,style': 2.993623188405797,\n",
       " 'Acura,price': 2.0477931034482757,\n",
       " 'Acura,space': 1.8074,\n",
       " 'Audi,luxury': 2.2597424100859818,\n",
       " 'Audi,performance': 2.587573234659266,\n",
       " 'Audi,style': 2.04731069115898,\n",
       " 'Audi,price': 2.0161303846556966,\n",
       " 'Audi,space': 2.6683282674772038,\n",
       " 'BMW,luxury': 1.7614331194097732,\n",
       " 'BMW,performance': 1.8629148629148629,\n",
       " 'BMW,style': 1.2959407742016438,\n",
       " 'BMW,price': 1.8211598746081505,\n",
       " 'BMW,space': 1.4530735930735932,\n",
       " 'Cadillac,luxury': 3.6279723303069606,\n",
       " 'Cadillac,performance': 2.4253891572732154,\n",
       " 'Cadillac,style': 2.4253891572732154,\n",
       " 'Cadillac,price': 2.638058748403576,\n",
       " 'Cadillac,space': 3.3470370370370373,\n",
       " 'Infiniti,luxury': 2.806338717040193,\n",
       " 'Infiniti,performance': 2.8222006315278114,\n",
       " 'Infiniti,style': 2.9267265808436562,\n",
       " 'Infiniti,price': 1.8901175110768638,\n",
       " 'Infiniti,space': 4.038882681564246}"
      ]
     },
     "execution_count": 24,
     "metadata": {},
     "output_type": "execute_result"
    }
   ],
   "source": [
    "lift_scores={}\n",
    "for k,num in comb_count:\n",
    "    lift_scores[k[0]+','+k[1]] = calculate_lift(k[0],k[1], num)\n",
    "lift_scores"
   ]
  },
  {
   "cell_type": "code",
   "execution_count": 25,
   "metadata": {},
   "outputs": [
    {
     "data": {
      "text/plain": [
       "[('Infiniti,space', 4.038882681564246),\n",
       " ('Cadillac,luxury', 3.6279723303069606),\n",
       " ('Cadillac,space', 3.3470370370370373),\n",
       " ('Acura,style', 2.993623188405797),\n",
       " ('Infiniti,style', 2.9267265808436562),\n",
       " ('Acura,luxury', 2.9135408560311284),\n",
       " ('Infiniti,performance', 2.8222006315278114),\n",
       " ('Infiniti,luxury', 2.806338717040193),\n",
       " ('Audi,space', 2.6683282674772038),\n",
       " ('Cadillac,price', 2.638058748403576),\n",
       " ('Audi,performance', 2.587573234659266),\n",
       " ('Cadillac,performance', 2.4253891572732154),\n",
       " ('Cadillac,style', 2.4253891572732154),\n",
       " ('Audi,luxury', 2.2597424100859818),\n",
       " ('Acura,price', 2.0477931034482757),\n",
       " ('Audi,style', 2.04731069115898),\n",
       " ('Audi,price', 2.0161303846556966),\n",
       " ('Acura,performance', 1.9177898550724637),\n",
       " ('Infiniti,price', 1.8901175110768638),\n",
       " ('BMW,performance', 1.8629148629148629),\n",
       " ('BMW,price', 1.8211598746081505),\n",
       " ('Acura,space', 1.8074),\n",
       " ('BMW,luxury', 1.7614331194097732),\n",
       " ('BMW,space', 1.4530735930735932),\n",
       " ('BMW,style', 1.2959407742016438)]"
      ]
     },
     "execution_count": 25,
     "metadata": {},
     "output_type": "execute_result"
    }
   ],
   "source": [
    "sorted_lifts = sorted(lift_scores.items(), key=lambda kv: kv[1], reverse=True)\n",
    "sorted_lifts"
   ]
  },
  {
   "cell_type": "code",
   "execution_count": null,
   "metadata": {},
   "outputs": [],
   "source": []
  }
 ],
 "metadata": {
  "kernelspec": {
   "display_name": "Python 3",
   "language": "python",
   "name": "python3"
  },
  "language_info": {
   "codemirror_mode": {
    "name": "ipython",
    "version": 3
   },
   "file_extension": ".py",
   "mimetype": "text/x-python",
   "name": "python",
   "nbconvert_exporter": "python",
   "pygments_lexer": "ipython3",
   "version": "3.7.3"
  }
 },
 "nbformat": 4,
 "nbformat_minor": 2
}
