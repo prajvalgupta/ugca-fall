{
 "cells": [
  {
   "cell_type": "markdown",
   "metadata": {},
   "source": [
    "## UGCA Group Assignment -1 "
   ]
  },
  {
   "cell_type": "markdown",
   "metadata": {},
   "source": [
    "# Group Members\n",
    "1. Chetna Singhal (cs57926)\n",
    "2. David Kinman\n",
    "3. Prajval Gupta\n",
    "4. Subhayu Chakravarty\n",
    "5. Whitt Hyde"
   ]
  },
  {
   "cell_type": "markdown",
   "metadata": {},
   "source": [
    "### Part 1 & 2 - Script to scrape data from the <a href=\"https://forums.edmunds.com/discussion/2864/general/x/entry-level-luxury-performance-sedans\">Edmunds.com - Entry level luxury cars forum</a>\n"
   ]
  },
  {
   "cell_type": "code",
   "execution_count": 10,
   "metadata": {},
   "outputs": [
    {
     "ename": "SyntaxError",
     "evalue": "invalid syntax (<ipython-input-10-64be7289b5a0>, line 1)",
     "output_type": "error",
     "traceback": [
      "\u001b[0;36m  File \u001b[0;32m\"<ipython-input-10-64be7289b5a0>\"\u001b[0;36m, line \u001b[0;32m1\u001b[0m\n\u001b[0;31m    python -m pip install -U selenium\u001b[0m\n\u001b[0m                ^\u001b[0m\n\u001b[0;31mSyntaxError\u001b[0m\u001b[0;31m:\u001b[0m invalid syntax\n"
     ]
    }
   ],
   "source": [
    "python -m pip install -U selenium"
   ]
  },
  {
   "cell_type": "code",
   "execution_count": 9,
   "metadata": {},
   "outputs": [
    {
     "ename": "ModuleNotFoundError",
     "evalue": "No module named 'selenium'",
     "output_type": "error",
     "traceback": [
      "\u001b[0;31m---------------------------------------------------------------------------\u001b[0m",
      "\u001b[0;31mModuleNotFoundError\u001b[0m                       Traceback (most recent call last)",
      "\u001b[0;32m<ipython-input-9-33793e70b790>\u001b[0m in \u001b[0;36m<module>\u001b[0;34m\u001b[0m\n\u001b[1;32m      1\u001b[0m \u001b[0;31m#Import Statements\u001b[0m\u001b[0;34m\u001b[0m\u001b[0;34m\u001b[0m\u001b[0;34m\u001b[0m\u001b[0m\n\u001b[0;32m----> 2\u001b[0;31m \u001b[0;32mimport\u001b[0m \u001b[0mselenium\u001b[0m\u001b[0;34m\u001b[0m\u001b[0;34m\u001b[0m\u001b[0m\n\u001b[0m\u001b[1;32m      3\u001b[0m \u001b[0;32mfrom\u001b[0m \u001b[0mselenium\u001b[0m \u001b[0;32mimport\u001b[0m \u001b[0mwebdriver\u001b[0m\u001b[0;34m\u001b[0m\u001b[0;34m\u001b[0m\u001b[0m\n\u001b[1;32m      4\u001b[0m \u001b[0;32mimport\u001b[0m \u001b[0mpandas\u001b[0m \u001b[0;32mas\u001b[0m \u001b[0mpd\u001b[0m\u001b[0;34m\u001b[0m\u001b[0;34m\u001b[0m\u001b[0m\n\u001b[1;32m      5\u001b[0m \u001b[0;32mfrom\u001b[0m \u001b[0mtime\u001b[0m \u001b[0;32mimport\u001b[0m \u001b[0msleep\u001b[0m\u001b[0;34m\u001b[0m\u001b[0;34m\u001b[0m\u001b[0m\n",
      "\u001b[0;31mModuleNotFoundError\u001b[0m: No module named 'selenium'"
     ]
    }
   ],
   "source": [
    "\n",
    "\n",
    "#Import Statements\n",
    "import selenium\n",
    "from selenium import webdriver\n",
    "import pandas as pd\n",
    "from time import sleep\n",
    "from string import punctuation\n",
    "import re\n",
    "import nltk\n",
    "from nltk.tokenize import sent_tokenize, word_tokenize\n",
    "from nltk.corpus import stopwords\n",
    "from nltk import FreqDist\n",
    "import copy\n",
    "import matplotlib.pyplot as plt\n",
    "import numpy as np\n",
    "from itertools import groupby\n",
    "from collections import Counter\n",
    "from nltk import ngrams, FreqDist\n",
    "from nltk.tokenize import sent_tokenize, word_tokenize, RegexpTokenizer\n",
    "from nltk.corpus import stopwords, webtext\n",
    "from sklearn import manifold\n",
    "%pylab inline"
   ]
  },
  {
   "cell_type": "code",
   "execution_count": 2,
   "metadata": {},
   "outputs": [
    {
     "ename": "NameError",
     "evalue": "name 'webdriver' is not defined",
     "output_type": "error",
     "traceback": [
      "\u001b[0;31m---------------------------------------------------------------------------\u001b[0m",
      "\u001b[0;31mNameError\u001b[0m                                 Traceback (most recent call last)",
      "\u001b[0;32m<ipython-input-2-37e1a2b44672>\u001b[0m in \u001b[0;36m<module>\u001b[0;34m\u001b[0m\n\u001b[1;32m      1\u001b[0m \u001b[0;31m## Script to scarpe the data from Edmunds - Entry Level Luxury Cars Forum\u001b[0m\u001b[0;34m\u001b[0m\u001b[0;34m\u001b[0m\u001b[0;34m\u001b[0m\u001b[0m\n\u001b[0;32m----> 2\u001b[0;31m \u001b[0mdriver\u001b[0m \u001b[0;34m=\u001b[0m \u001b[0mwebdriver\u001b[0m\u001b[0;34m.\u001b[0m\u001b[0mChrome\u001b[0m\u001b[0;34m(\u001b[0m\u001b[0mexecutable_path\u001b[0m\u001b[0;34m=\u001b[0m\u001b[0;34m'/Users/livestrong19/Downloads/chromedriver'\u001b[0m\u001b[0;34m)\u001b[0m\u001b[0;34m\u001b[0m\u001b[0;34m\u001b[0m\u001b[0m\n\u001b[0m\u001b[1;32m      3\u001b[0m \u001b[0;34m\u001b[0m\u001b[0m\n\u001b[1;32m      4\u001b[0m \u001b[0mcomments\u001b[0m \u001b[0;34m=\u001b[0m \u001b[0mpd\u001b[0m\u001b[0;34m.\u001b[0m\u001b[0mDataFrame\u001b[0m\u001b[0;34m(\u001b[0m\u001b[0mcolumns\u001b[0m \u001b[0;34m=\u001b[0m \u001b[0;34m[\u001b[0m\u001b[0;34m'Date'\u001b[0m\u001b[0;34m,\u001b[0m\u001b[0;34m'user_id'\u001b[0m\u001b[0;34m,\u001b[0m\u001b[0;34m'comments'\u001b[0m\u001b[0;34m]\u001b[0m\u001b[0;34m)\u001b[0m\u001b[0;34m\u001b[0m\u001b[0;34m\u001b[0m\u001b[0m\n\u001b[1;32m      5\u001b[0m \u001b[0;34m\u001b[0m\u001b[0m\n",
      "\u001b[0;31mNameError\u001b[0m: name 'webdriver' is not defined"
     ]
    }
   ],
   "source": [
    "## Script to scarpe the data from Edmunds - Entry Level Luxury Cars Forum\n",
    "driver = webdriver.Chrome(executable_path='chromedriver')\n",
    "\n",
    "comments = pd.DataFrame(columns = ['Date','user_id','comments']) \n",
    "\n",
    "for i in range(723,550,-1):\n",
    "    driver.get('https://forums.edmunds.com/discussion/2864/general/x/entry-level-luxury-performance-sedans/p'+ str(i))\n",
    "\n",
    "    ids = driver.find_elements_by_xpath(\"//*[contains(@id,'Comment_')]\")\n",
    "    comment_ids = []\n",
    "    for i in ids:\n",
    "        comment_ids.append(i.get_attribute('id'))\n",
    "\n",
    "    for x in comment_ids:\n",
    "        #Extract dates from for each user on a page\n",
    "        user_date = driver.find_elements_by_xpath('//*[@id=\"' + x +'\"]/div/div[2]/div[2]/span[1]/a/time')[0]\n",
    "        date = user_date.get_attribute('title')\n",
    "        \n",
    "        #Extract user ids from each user on a page\n",
    "        userid_element = driver.find_elements_by_xpath('//*[@id=\"' + x +'\"]/div/div[2]/div[1]/span[1]/a[2]')[0]\n",
    "        userid = userid_element.text\n",
    "        \n",
    "        #Extract Message for each user on a page\n",
    "        user_message = driver.find_elements_by_xpath('//*[@id=\"' + x +'\"]/div/div[3]/div/div[1]')[0]\n",
    "        comment = user_message.text\n",
    "        \n",
    "        #Removing block quotes\n",
    "        total_msg = driver.find_element_by_xpath('//*[@id=\"' + x + '\"]/div/div[3]/div/div[1]')\n",
    "        block_msg = total_msg.find_elements_by_class_name('UserQuote')\n",
    "        if block_msg:\n",
    "            comment = comment.replace(block_msg[0].text,\"\")\n",
    "            \n",
    "        #Adding date, userid and comment for each user in a dataframe    \n",
    "        comments.loc[len(comments)] = [date,userid,comment]\n",
    "\n",
    "print(comments.shape)\n",
    "comments.to_csv(\"posts.csv\", encoding='utf-8')"
   ]
  },
  {
   "cell_type": "markdown",
   "metadata": {},
   "source": [
    "### Part 3 - Data Cleansing"
   ]
  },
  {
   "cell_type": "code",
   "execution_count": 3,
   "metadata": {},
   "outputs": [],
   "source": [
    "# Remove all punctuation characters from each post and convert text to lowercase for efficient frequency counting\n",
    "# punctuation includes !\"#$%&'()*+, -./:;<=>?@[\\]^_`{|}~\n",
    "\n",
    "def remove_punctuations(item):\n",
    "    for p in punctuation:\n",
    "        item = item.strip().replace(p,'')\n",
    "    return item\n",
    "\n",
    "# Replace car models with brand names for effective analysis - Part B\n",
    "def model_to_brand(s):\n",
    "    for i in models.index.values:\n",
    "        s = s.replace(models[\"Model\"][i].lower(),models[\"Brand\"][i].lower())\n",
    "    return s\n",
    "\n",
    "# Function to remove stopwords\n",
    "def remove_stopwords(s):\n",
    "    return [w for w in s if not w in stop_words] \n",
    "\n",
    "# Function to check if a brand is mentioned in a post or not\n",
    "def brand_count(item):\n",
    "    if brand in item:\n",
    "        return 1\n",
    "    else:\n",
    "        return 0\n",
    "    \n",
    "def model_to_capbrand(s):\n",
    "    for i in models.index.values:\n",
    "        if models[\"Brand\"][i].lower() in s:\n",
    "            s = s.replace(models[\"Brand\"][i].lower(),models[\"Brand\"][i].upper())\n",
    "            continue\n",
    "    return s\n",
    "\n",
    "def brand_attri_count(brandList, df_a, attributeList):\n",
    "    comb_count=[]\n",
    "    car_count={}\n",
    "    attrib_count={}\n",
    "    for car in brandList:\n",
    "        num_car=0\n",
    "        for comment in df_a.Posts:\n",
    "                if car in comment:\n",
    "                    num_car+=1\n",
    "        car_count[car]=num_car\n",
    "        for attrib in attributeList:\n",
    "            num_combined=0\n",
    "            num_attrib=0\n",
    "            for comment in df_a.Posts:\n",
    "                if car in comment and attrib in comment:\n",
    "                    num_combined+=1\n",
    "                if attrib in comment:\n",
    "                    num_attrib+=1\n",
    "            attrib_count[attrib]=num_attrib\n",
    "            comb_count.append(((car,attrib),num_combined))\n",
    "    return [[car_count,attrib_count,comb_count]]\n",
    "\n",
    "def calculate_lift(car, attrib, combined,attrib_count,car_count):\n",
    "    if(attrib_count[attrib]==0):\n",
    "        print(attrib)\n",
    "    if(car_count[car]==0):\n",
    "        print(car)\n",
    "    lift = (5164*combined)/(car_count[car]*attrib_count[attrib])\n",
    "    return lift"
   ]
  },
  {
   "cell_type": "code",
   "execution_count": 4,
   "metadata": {},
   "outputs": [
    {
     "ename": "NameError",
     "evalue": "name 'pd' is not defined",
     "output_type": "error",
     "traceback": [
      "\u001b[0;31m---------------------------------------------------------------------------\u001b[0m",
      "\u001b[0;31mNameError\u001b[0m                                 Traceback (most recent call last)",
      "\u001b[0;32m<ipython-input-4-c2291d042ee7>\u001b[0m in \u001b[0;36m<module>\u001b[0;34m\u001b[0m\n\u001b[1;32m      1\u001b[0m \u001b[0;31m# Load user comments into a dataframe\u001b[0m\u001b[0;34m\u001b[0m\u001b[0;34m\u001b[0m\u001b[0;34m\u001b[0m\u001b[0m\n\u001b[0;32m----> 2\u001b[0;31m \u001b[0mdf\u001b[0m \u001b[0;34m=\u001b[0m \u001b[0mpd\u001b[0m\u001b[0;34m.\u001b[0m\u001b[0mread_csv\u001b[0m\u001b[0;34m(\u001b[0m\u001b[0;34m\"posts.csv\"\u001b[0m\u001b[0;34m,\u001b[0m \u001b[0musecols\u001b[0m\u001b[0;34m=\u001b[0m\u001b[0;34m[\u001b[0m\u001b[0;34m\"comments\"\u001b[0m\u001b[0;34m]\u001b[0m\u001b[0;34m)\u001b[0m\u001b[0;34m\u001b[0m\u001b[0;34m\u001b[0m\u001b[0m\n\u001b[0m\u001b[1;32m      3\u001b[0m \u001b[0mdf\u001b[0m\u001b[0;34m.\u001b[0m\u001b[0mcolumns\u001b[0m \u001b[0;34m=\u001b[0m \u001b[0;34m[\u001b[0m\u001b[0;34m\"Posts\"\u001b[0m\u001b[0;34m]\u001b[0m\u001b[0;34m\u001b[0m\u001b[0;34m\u001b[0m\u001b[0m\n\u001b[1;32m      4\u001b[0m \u001b[0;34m\u001b[0m\u001b[0m\n\u001b[1;32m      5\u001b[0m \u001b[0;31m# Remove newline from each post & drop rows with null values\u001b[0m\u001b[0;34m\u001b[0m\u001b[0;34m\u001b[0m\u001b[0;34m\u001b[0m\u001b[0m\n",
      "\u001b[0;31mNameError\u001b[0m: name 'pd' is not defined"
     ]
    }
   ],
   "source": [
    "# Load user comments into a dataframe\n",
    "df = pd.read_csv(\"posts.csv\", usecols=[\"comments\"])\n",
    "df.columns = [\"Posts\"]\n",
    "\n",
    "# Remove newline from each post & drop rows with null values\n",
    "df = df.replace('\\n','', regex=True)\n",
    "df = df.dropna()\n",
    "\n",
    "df[\"Post Length\"]= df[\"Posts\"].str.len() \n",
    "\n",
    "df[\"Posts\"] = df['Posts'].apply(remove_punctuations)\n",
    "df['Posts'] = df[\"Posts\"].apply(lambda x: x.lower())\n",
    "df[\"Post Length\"]= df[\"Posts\"].str.len() \n",
    "df.head()"
   ]
  },
  {
   "cell_type": "code",
   "execution_count": 5,
   "metadata": {},
   "outputs": [
    {
     "ename": "NameError",
     "evalue": "name 'pd' is not defined",
     "output_type": "error",
     "traceback": [
      "\u001b[0;31m---------------------------------------------------------------------------\u001b[0m",
      "\u001b[0;31mNameError\u001b[0m                                 Traceback (most recent call last)",
      "\u001b[0;32m<ipython-input-5-b1567718f9e4>\u001b[0m in \u001b[0;36m<module>\u001b[0;34m\u001b[0m\n\u001b[1;32m      1\u001b[0m \u001b[0;31m# Replace car models with brand names for effective analysis - Part A\u001b[0m\u001b[0;34m\u001b[0m\u001b[0;34m\u001b[0m\u001b[0;34m\u001b[0m\u001b[0m\n\u001b[0;32m----> 2\u001b[0;31m \u001b[0mmodels\u001b[0m \u001b[0;34m=\u001b[0m \u001b[0mpd\u001b[0m\u001b[0;34m.\u001b[0m\u001b[0mread_csv\u001b[0m\u001b[0;34m(\u001b[0m\u001b[0;34m\"../models.csv\"\u001b[0m\u001b[0;34m,\u001b[0m \u001b[0mheader\u001b[0m \u001b[0;34m=\u001b[0m \u001b[0;36m0\u001b[0m\u001b[0;34m,\u001b[0m \u001b[0mnames\u001b[0m \u001b[0;34m=\u001b[0m \u001b[0;34m[\u001b[0m\u001b[0;34m'Brand'\u001b[0m\u001b[0;34m,\u001b[0m\u001b[0;34m'Model'\u001b[0m\u001b[0;34m]\u001b[0m\u001b[0;34m,\u001b[0m\u001b[0mencoding\u001b[0m\u001b[0;34m=\u001b[0m\u001b[0;34m'windows-1252'\u001b[0m\u001b[0;34m)\u001b[0m\u001b[0;34m\u001b[0m\u001b[0;34m\u001b[0m\u001b[0m\n\u001b[0m\u001b[1;32m      3\u001b[0m \u001b[0mmodels\u001b[0m\u001b[0;34m[\u001b[0m\u001b[0;34m'Brand'\u001b[0m\u001b[0;34m]\u001b[0m \u001b[0;34m=\u001b[0m \u001b[0mmodels\u001b[0m\u001b[0;34m[\u001b[0m\u001b[0;34m'Brand'\u001b[0m\u001b[0;34m]\u001b[0m\u001b[0;34m.\u001b[0m\u001b[0mstr\u001b[0m\u001b[0;34m.\u001b[0m\u001b[0mstrip\u001b[0m\u001b[0;34m(\u001b[0m\u001b[0mpunctuation\u001b[0m\u001b[0;34m)\u001b[0m\u001b[0;34m\u001b[0m\u001b[0;34m\u001b[0m\u001b[0m\n\u001b[1;32m      4\u001b[0m \u001b[0mdf\u001b[0m\u001b[0;34m[\u001b[0m\u001b[0;34m'Posts'\u001b[0m\u001b[0;34m]\u001b[0m \u001b[0;34m=\u001b[0m \u001b[0mdf\u001b[0m\u001b[0;34m[\u001b[0m\u001b[0;34m'Posts'\u001b[0m\u001b[0;34m]\u001b[0m\u001b[0;34m.\u001b[0m\u001b[0mapply\u001b[0m\u001b[0;34m(\u001b[0m\u001b[0mmodel_to_brand\u001b[0m\u001b[0;34m)\u001b[0m\u001b[0;34m\u001b[0m\u001b[0;34m\u001b[0m\u001b[0m\n\u001b[1;32m      5\u001b[0m \u001b[0mdf\u001b[0m\u001b[0;34m[\u001b[0m\u001b[0;34m\"Post Length\"\u001b[0m\u001b[0;34m]\u001b[0m\u001b[0;34m=\u001b[0m \u001b[0mdf\u001b[0m\u001b[0;34m[\u001b[0m\u001b[0;34m\"Posts\"\u001b[0m\u001b[0;34m]\u001b[0m\u001b[0;34m.\u001b[0m\u001b[0mstr\u001b[0m\u001b[0;34m.\u001b[0m\u001b[0mlen\u001b[0m\u001b[0;34m(\u001b[0m\u001b[0;34m)\u001b[0m\u001b[0;34m\u001b[0m\u001b[0;34m\u001b[0m\u001b[0m\n",
      "\u001b[0;31mNameError\u001b[0m: name 'pd' is not defined"
     ]
    }
   ],
   "source": [
    "# Replace car models with brand names for effective analysis - Part A\n",
    "models = pd.read_csv(\"models.csv\", header = 0, names = ['Brand','Model'],encoding='windows-1252')\n",
    "models['Brand'] = models['Brand'].str.strip(punctuation)\n",
    "df['Posts'] = df['Posts'].apply(model_to_brand)\n",
    "df[\"Post Length\"]= df[\"Posts\"].str.len() \n",
    "\n",
    "#Download stopwords\n",
    "# nltk.download('stopwords')\n",
    "stop_words = set(stopwords.words('english'))\n",
    "\n",
    "# Replace the typing errors and misspelled brand names\n",
    "df['Posts'].replace({'beaudier': 'AUDI', 'preaudiy':'AUDI', 'geaudiing':'AUDI', 'audi0':'AUDI', 'maaudier':'AUDI'}, inplace=True, regex=True)\n",
    "df['Posts'].replace({'acurax': 'ACURA', 'litacurae':'ACURA', 'exacacuray':'ACURA', 'acuras':'ACURA', 'recenacuray':'ACURA', 'mosacuray':'ACURA', 'apparenacuray':'ACURA', '’':''}, inplace=True, regex=True)\n",
    "df['Posts'].replace({'thcadillac': 'CADILLAC', 'secadillac':'CADILLAC'}, inplace=True, regex=True)\n",
    "df['Posts'].replace({'beaudier': 'BMW','bmwi':'BMW'}, inplace=True, regex=True)\n",
    "df['Posts'].replace({'mercedess': 'MERCEDES','mercedesss': 'MERCEDES', 'rememercedeser':'MERCEDES', 'numercedeser':'MERCEDES', 'numercedesers':'MERCEDES'}, inplace=True, regex=True)\n",
    "df['Posts'].replace({'nissanion': 'NISSAN'}, inplace=True, regex=True)\n",
    "\n",
    "# Tokenize the posts\n",
    "df['Tokens'] = df['Posts'].apply(word_tokenize).apply(set).apply(list)\n",
    "df['Tokens'] = df['Tokens'].apply(remove_stopwords)\n",
    "df.head()"
   ]
  },
  {
   "cell_type": "markdown",
   "metadata": {},
   "source": [
    "### Count word frequency"
   ]
  },
  {
   "cell_type": "code",
   "execution_count": 6,
   "metadata": {},
   "outputs": [
    {
     "ename": "NameError",
     "evalue": "name 'df' is not defined",
     "output_type": "error",
     "traceback": [
      "\u001b[0;31m---------------------------------------------------------------------------\u001b[0m",
      "\u001b[0;31mNameError\u001b[0m                                 Traceback (most recent call last)",
      "\u001b[0;32m<ipython-input-6-0830f52dc318>\u001b[0m in \u001b[0;36m<module>\u001b[0;34m\u001b[0m\n\u001b[1;32m      1\u001b[0m \u001b[0mcount\u001b[0m \u001b[0;34m=\u001b[0m \u001b[0;34m[\u001b[0m\u001b[0;34m]\u001b[0m\u001b[0;34m\u001b[0m\u001b[0;34m\u001b[0m\u001b[0m\n\u001b[1;32m      2\u001b[0m \u001b[0;31m# Count the frequency of the words\u001b[0m\u001b[0;34m\u001b[0m\u001b[0;34m\u001b[0m\u001b[0;34m\u001b[0m\u001b[0m\n\u001b[0;32m----> 3\u001b[0;31m \u001b[0;32mfor\u001b[0m \u001b[0mi\u001b[0m \u001b[0;32min\u001b[0m \u001b[0mrange\u001b[0m\u001b[0;34m(\u001b[0m\u001b[0mlen\u001b[0m\u001b[0;34m(\u001b[0m\u001b[0mdf\u001b[0m\u001b[0;34m[\u001b[0m\u001b[0;34m\"Tokens\"\u001b[0m\u001b[0;34m]\u001b[0m\u001b[0;34m)\u001b[0m\u001b[0;34m)\u001b[0m\u001b[0;34m:\u001b[0m\u001b[0;34m\u001b[0m\u001b[0;34m\u001b[0m\u001b[0m\n\u001b[0m\u001b[1;32m      4\u001b[0m     \u001b[0mcount\u001b[0m \u001b[0;34m+=\u001b[0m \u001b[0mdf\u001b[0m\u001b[0;34m.\u001b[0m\u001b[0miloc\u001b[0m\u001b[0;34m[\u001b[0m\u001b[0mi\u001b[0m\u001b[0;34m]\u001b[0m\u001b[0;34m[\u001b[0m\u001b[0;34m'Tokens'\u001b[0m\u001b[0;34m]\u001b[0m\u001b[0;34m\u001b[0m\u001b[0;34m\u001b[0m\u001b[0m\n\u001b[1;32m      5\u001b[0m \u001b[0mcount\u001b[0m \u001b[0;34m=\u001b[0m \u001b[0;34m[\u001b[0m\u001b[0mx\u001b[0m\u001b[0;34m.\u001b[0m\u001b[0mlower\u001b[0m\u001b[0;34m(\u001b[0m\u001b[0;34m)\u001b[0m \u001b[0;32mfor\u001b[0m \u001b[0mx\u001b[0m \u001b[0;32min\u001b[0m \u001b[0mcount\u001b[0m\u001b[0;34m]\u001b[0m\u001b[0;34m\u001b[0m\u001b[0;34m\u001b[0m\u001b[0m\n",
      "\u001b[0;31mNameError\u001b[0m: name 'df' is not defined"
     ]
    }
   ],
   "source": [
    "count = []\n",
    "# Count the frequency of the words\n",
    "for i in range(len(df[\"Tokens\"])):\n",
    "    count += df.iloc[i]['Tokens']\n",
    "count = [x.lower() for x in count]\n",
    "word_freq = nltk.FreqDist(count)\n",
    "\n",
    "# 500 most frequent words\n",
    "top_words = word_freq.most_common(500)\n",
    "top_words"
   ]
  },
  {
   "cell_type": "markdown",
   "metadata": {},
   "source": [
    "## Task A\n",
    "### Top 10 brands with the frequencies\n",
    "\n",
    "\n",
    "After the analysis the top 10 brands we found with their frequency counts are:<br>\n",
    "1. Audi - 2008\n",
    "2. BMW - 1512\n",
    "3. Acura - 1376\n",
    "4. Cadillac - 808\n",
    "5. Mercedes - 578\n",
    "6. Honda - 351\n",
    "7. Ford - 241\n",
    "8. Vilkswagen - 228\n",
    "9. Hyundai - 195\n",
    "10. Infiniti - 189"
   ]
  },
  {
   "cell_type": "code",
   "execution_count": 7,
   "metadata": {},
   "outputs": [
    {
     "ename": "NameError",
     "evalue": "name 'models' is not defined",
     "output_type": "error",
     "traceback": [
      "\u001b[0;31m---------------------------------------------------------------------------\u001b[0m",
      "\u001b[0;31mNameError\u001b[0m                                 Traceback (most recent call last)",
      "\u001b[0;32m<ipython-input-7-d07cf0eb778c>\u001b[0m in \u001b[0;36m<module>\u001b[0;34m\u001b[0m\n\u001b[1;32m      1\u001b[0m \u001b[0mtop_brands_count\u001b[0m \u001b[0;34m=\u001b[0m \u001b[0;34m[\u001b[0m\u001b[0;34m]\u001b[0m\u001b[0;34m\u001b[0m\u001b[0;34m\u001b[0m\u001b[0m\n\u001b[1;32m      2\u001b[0m \u001b[0;34m\u001b[0m\u001b[0m\n\u001b[0;32m----> 3\u001b[0;31m \u001b[0mmodels_unique\u001b[0m \u001b[0;34m=\u001b[0m \u001b[0mmodels\u001b[0m\u001b[0;34m[\u001b[0m\u001b[0;34m'Brand'\u001b[0m\u001b[0;34m]\u001b[0m\u001b[0;34m.\u001b[0m\u001b[0mdrop_duplicates\u001b[0m\u001b[0;34m(\u001b[0m\u001b[0;34m)\u001b[0m\u001b[0;34m.\u001b[0m\u001b[0mtolist\u001b[0m\u001b[0;34m(\u001b[0m\u001b[0;34m)\u001b[0m\u001b[0;34m\u001b[0m\u001b[0;34m\u001b[0m\u001b[0m\n\u001b[0m\u001b[1;32m      4\u001b[0m \u001b[0;34m\u001b[0m\u001b[0m\n\u001b[1;32m      5\u001b[0m \u001b[0;32mfor\u001b[0m \u001b[0;34m(\u001b[0m\u001b[0mkey\u001b[0m\u001b[0;34m,\u001b[0m \u001b[0mitems\u001b[0m\u001b[0;34m)\u001b[0m \u001b[0;32min\u001b[0m \u001b[0mtop_words\u001b[0m\u001b[0;34m:\u001b[0m\u001b[0;34m\u001b[0m\u001b[0;34m\u001b[0m\u001b[0m\n",
      "\u001b[0;31mNameError\u001b[0m: name 'models' is not defined"
     ]
    }
   ],
   "source": [
    "top_brands_count = []\n",
    "\n",
    "models_unique = models['Brand'].drop_duplicates().tolist()\n",
    "\n",
    "for (key, items) in top_words:\n",
    "    if key in models_unique:\n",
    "        model_count = (key,items)\n",
    "        top_brands_count.append(model_count)  \n",
    "\n",
    "print ('Top 10 brands along with their frequencies are: \\n' , top_brands_count[:10])"
   ]
  },
  {
   "cell_type": "markdown",
   "metadata": {},
   "source": [
    "### Calculate Lift Ratios for Top 10 brands "
   ]
  },
  {
   "cell_type": "code",
   "execution_count": 8,
   "metadata": {},
   "outputs": [
    {
     "ename": "NameError",
     "evalue": "name 'pd' is not defined",
     "output_type": "error",
     "traceback": [
      "\u001b[0;31m---------------------------------------------------------------------------\u001b[0m",
      "\u001b[0;31mNameError\u001b[0m                                 Traceback (most recent call last)",
      "\u001b[0;32m<ipython-input-8-7c83e91fdac9>\u001b[0m in \u001b[0;36m<module>\u001b[0;34m\u001b[0m\n\u001b[1;32m      4\u001b[0m     \u001b[0mtop_brands\u001b[0m\u001b[0;34m.\u001b[0m\u001b[0mappend\u001b[0m\u001b[0;34m(\u001b[0m\u001b[0mbrand\u001b[0m\u001b[0;34m)\u001b[0m\u001b[0;34m\u001b[0m\u001b[0;34m\u001b[0m\u001b[0m\n\u001b[1;32m      5\u001b[0m \u001b[0;34m\u001b[0m\u001b[0m\n\u001b[0;32m----> 6\u001b[0;31m \u001b[0mbrand_df\u001b[0m \u001b[0;34m=\u001b[0m \u001b[0mpd\u001b[0m\u001b[0;34m.\u001b[0m\u001b[0mDataFrame\u001b[0m\u001b[0;34m(\u001b[0m\u001b[0mcolumns\u001b[0m \u001b[0;34m=\u001b[0m \u001b[0mtop_brands\u001b[0m\u001b[0;34m)\u001b[0m\u001b[0;34m\u001b[0m\u001b[0;34m\u001b[0m\u001b[0m\n\u001b[0m\u001b[1;32m      7\u001b[0m \u001b[0;34m\u001b[0m\u001b[0m\n\u001b[1;32m      8\u001b[0m \u001b[0;32mfor\u001b[0m \u001b[0mbrand\u001b[0m \u001b[0;32min\u001b[0m \u001b[0mtop_brands\u001b[0m\u001b[0;34m:\u001b[0m\u001b[0;34m\u001b[0m\u001b[0;34m\u001b[0m\u001b[0m\n",
      "\u001b[0;31mNameError\u001b[0m: name 'pd' is not defined"
     ]
    }
   ],
   "source": [
    "# Create a new dataframe to store occurence of each brand in top 10 list in each post\n",
    "top_brands =[]\n",
    "for brand, count in top_brands_count[:10]:\n",
    "    top_brands.append(brand) \n",
    "\n",
    "brand_df = pd.DataFrame(columns = top_brands)\n",
    "\n",
    "for brand in top_brands:\n",
    "    brand_df[brand] = df['Tokens'].apply(brand_count)        \n",
    "\n",
    "lift_df = pd.DataFrame(columns = top_brands)\n",
    "\n",
    "for i in range(len(top_brands)):\n",
    "    new_list = []\n",
    "    for j in range(len(top_brands)):\n",
    "        if (i!=j):\n",
    "            num = ((brand_df[top_brands[i]] + brand_df[top_brands[j]]) > 1).sum()\n",
    "            dem = brand_df[top_brands[j]].sum()*brand_df[top_brands[i]].sum()\n",
    "            lift = num * len(brand_df) / dem\n",
    "            lift_df.loc[top_brands[i],top_brands[j]] = lift\n",
    "\n",
    "print ('Lift Matrix:\\n')\n",
    "lift_df"
   ]
  },
  {
   "cell_type": "markdown",
   "metadata": {},
   "source": [
    "### Inverse Lift Matrix"
   ]
  },
  {
   "cell_type": "code",
   "execution_count": null,
   "metadata": {
    "scrolled": false
   },
   "outputs": [],
   "source": [
    "# Calculating the dissimilarity matrix which is the input for plotting MDS plot\n",
    "\n",
    "lift_inverse_df = 1/lift_df\n",
    "np.fill_diagonal(lift_inverse_df.values, 0)\n",
    "\n",
    "lift_inverse_df"
   ]
  },
  {
   "cell_type": "markdown",
   "metadata": {},
   "source": [
    "### Multi-Dimensional Scaling (MDS) map"
   ]
  },
  {
   "cell_type": "code",
   "execution_count": null,
   "metadata": {},
   "outputs": [],
   "source": [
    "seed = np.random.RandomState(seed=3)\n",
    "\n",
    "mds = manifold.MDS(n_components=2, max_iter=3000, eps=1e-9, random_state=seed,\n",
    "                   dissimilarity=\"precomputed\", n_jobs=1)\n",
    "pos = mds.fit(lift_inverse_df)\n",
    "coords = pos.embedding_\n",
    "\n",
    "\n",
    "plt.subplots_adjust(bottom = 0.1)\n",
    "plt.scatter(\n",
    "    coords[:, 0], coords[:, 1], marker = 'o'\n",
    "    )\n",
    "for label, x, y in zip(top_brands, coords[:, 0], coords[:, 1]):\n",
    "    \n",
    "    plt.annotate(\n",
    "        label,\n",
    "        xy = (x, y), xytext = (-5, 5),\n",
    "        textcoords = 'offset points', ha = 'right', va = 'bottom')\n",
    "\n",
    "plt.show()"
   ]
  },
  {
   "cell_type": "markdown",
   "metadata": {},
   "source": [
    "# Task B: \n",
    "\n",
    "What insights can you offer brand managers from your analysis in Task A (choose two brands that you can offer the most interesting/useful insights for)? \n",
    "\n"
   ]
  },
  {
   "cell_type": "markdown",
   "metadata": {},
   "source": [
    "### I. Ford\n",
    "In our lift analysis we found two very strong trends regarding the American auto company based in Detroit: \n",
    "- They are mentioned most with foreign (non-American) brands\n",
    "- Hyundai presents the biggest competition for Ford (2.52 Lift Value) followed closely by Volkswagen (2.20 Lift Value).\n",
    "#### Foreign Brands\n",
    "First, Ford finds itself in an interesting position as the American company that prides itself on being America’s leading producers of automobiles finds its brand most closely related to foreign companies. This could mean one of two things: either Ford’s campaign to establish itself as “America’s car manufacturer” is not working, or the push for an “American” image is inconsequential to the consumer when considering the vehicle.\n",
    "##### American Image\n",
    "Let’s take the first scenario into account. If it is indeed the case that Ford’s marketing campaigns are ineffective at portraying the brand as domestic, then I would advise brand managers to adjust advertising to make a stronger push to the patriotic appeal. Then, after adjusting the marketing strategies you could run the lift analysis once more to see if Ford’s lift values are more aligned with other domestic brands as well as comparing overall sales figures to make. \n",
    "##### Other Explanation\n",
    "However, it is important to consider the context of the study (Entry Level Luxury Sedans). Ford has always been a leader in the pickup truck industry, and pickup trucks are a very American product, thus it is important to truck consumers that their truck is “American”. But perhaps it is more likely that the consumer of a luxury sedan does not care as much about the vehicle being “American Made”, but rather consider other features (such as safety for instance) as more important. The answer to this question relies in the competition for Ford.\n",
    "#### Hyundai and Volkswagen Competition\n",
    "It is likely that this high relation and lift with these foreign brands is due to another feature. When we look to the closest brands in lift we see Ford lines up against Hyundai and Volkswagen. The sedans for those two brands - The “Hyundai Elantra” and “Volkswagen Jetta” are known for their reliability for a reasonable price. This makes sense for Ford historically, as they have been leaders on durability and longevity in their vehicles. With this in mind, there are two steps strategically that I can see success moving forward: become the sole leader in reliability, or add another key feature of their vehicle. \n",
    "### Recommendation to Ford’s Brand Manager\n",
    "\n",
    "    Ford should take the following steps:\n",
    "    1. Make a stronger pursuit in establishing itself in its competitive positioning as “The American” Brand. They can do this through advertising campaigns on the national level, while appealing to luxury car consumers emotional patriotic side. Luxury consumers are inherently by definition willing to spend a little more. Ford should first do their own analysis to make sure this is in fact something their customer cares about, then continue to highlight its American features.\n",
    "    2. Ford should expand its core competencies. Ford has always been known as a very reliable brand and that’s a great thing. However I believe it would do Ford to expand upon this and enter a more niche speciality. For instance, they could become the world’s most reliable “green car”, or most reliable “comfort ride.” This is important because right now they stand in line with their competition Hyundai and Volkswagen. If they cannot do something to differentiate in brand, they will likely lose customers to the other two if they were to offer a slightly lower price. \n",
    "    \n",
    "### II. Mercedes\n",
    "\n",
    "After our lift analysis we found that Mercedes entry level sedans are on an island with the Japanese Infiniti brand with a lift value of 4.34. This is very alarming for Mercedes as traditionally their competition is with higher luxury brands such as Audi and BMW. It is possible this lift value is high for two reasons:  \n",
    "- Mercedes and Infiniti are both known as unreliable relative to other luxury brands \n",
    "- The competitive landscape between the two is close, and this should raise alarms for Mercedes\n",
    "#### Reliability Issue\n",
    "One explanation to the strong connection between Infiniti and Mercedes is the reliability problem that has plagued both brands. Consumer Reports marked the Infiniti Q50 as one of the least reliable luxury cars on the market back in 2014. They reported that it was 127% less reliable than the average. In 2014, Consumer Reports also reported that the Mercedes CLA was not only the most unreliable Mercedes in the Auto Reliability Survey, but 140% worse than the average car. So, in other words both brands have a big issue on their hand when it comes to public opinion and reliability\n",
    "(References: https://www.osv.ltd.uk/are-mercedes-benz-reliable/ , and https://www.osv.ltd.uk/are-infiniti-reliable/ )\n",
    "#### Mercedes Competition with Infiniti\n",
    "Mercedes and Infiniti’s core market is luxury vehicles and as such they will share a lot of the same battlegrounds. In fact, Infiniti’s Q Models, and Mercedes-Benz’s C-Class are direct competitors in the entry level luxury sedan field that share a lot of similarities. However there are slight differences in the models that highlight the overall sentiments of the brands. Mercedes’ C-Class delivers more power, it also has a more safety feature, and it even gives a more economic fuel efficient ride. \n",
    "(References: https://www.autotrader.com/car-reviews/2017-infiniti-q60-vs-2017-mercedes-benz-c-class-coupe-which-better-258411 )\n",
    "###### So why are these brands so closely related then???\n",
    "This golden question is one that needs to be answered fast by the brand managers at Mercedes. In my opinion, the brand needs to realign itself to the market of upper-luxury and stick to its core competency. There are many different levels of C-Class Mercedes, wherein the more you spend -> the better performing model you get. This is done to be competitive at all the levels of the market. Take for instance the Mercedes C300 model, it is the cheapest in the C-Class, and it is made this way so Mercedes can sell to the lower end of the luxury model. \n",
    "### Recommendation for Mercedes Brand Manager\n",
    "\n",
    "    The brand manager needs to distance themself from Infiniti. In order to do this, they must accomplish a few things:\n",
    "    1. First, they must revamp marketing to show the superior features that one gets when they choose Mercedes. \n",
    "    2. Second, they must work to remove the stigma of Mercedes’ reliability (or lack thereof). They do not need to become leaders in reliability, however they must raise the bar from where it stands today. \n",
    "    3. Third, I recommend they pull out of the lower-entry level of luxury. While selling the C300 model allows them to reach another customer base, it is opening up the opportunities to compare them to other brands in that market (namely Infiniti). The Infiniti Q60 is no where close to the car that the C43 Mercedes is, but they aren’t close in price either. However, it is clear based on the high lift of 2.39 the two brands are being compared and talked about in union. I believe this is a byproduct of Mercedes entering this market with the C300. I would recommend Mercedes pull the C300, and focus on the market of car that has made them famous."
   ]
  },
  {
   "cell_type": "markdown",
   "metadata": {},
   "source": [
    "## Task C"
   ]
  },
  {
   "cell_type": "markdown",
   "metadata": {},
   "source": [
    "### Attribute - Brand Association\n",
    "\n",
    "#### The 5 attributes we choose after analysis are 'luxury','performance','space','price','safety'"
   ]
  },
  {
   "cell_type": "code",
   "execution_count": null,
   "metadata": {},
   "outputs": [],
   "source": [
    "df_a=df.copy()\n",
    "df_a=df_a.drop(['Tokens'], axis=1)\n",
    "\n",
    "performwords={'powerful':'performance','power':'performance',\n",
    "              'mileage':'performance','speed':'performance',\n",
    "              'fast':'performance','transmission':'performance',\n",
    "              'engine':'performance','suspension':'performance','sport':'performance',\n",
    "             'high performance':'performance',\n",
    "              'quick':'performance',\n",
    "              'good horsepower':'performance',\n",
    "              'exotic':'performance',\n",
    "              'excellent':'performance',\n",
    "              'fuel efficient':'performance',\n",
    "              'high fuel economy':'performance',\n",
    "              'high mpg':'performance',\n",
    "              'good mpg':'performance',\n",
    "              'good fuel economy':'performance',\n",
    "              'responsive':'performance',\n",
    "              'tough':'performance',\n",
    "              'reliable':'performance'}\n",
    "#use style \n",
    "stylewords={'look':'style','looks':'style','stylish':'style',\n",
    "            'gorgeous':'style','classy':'style','beauty':'style',\n",
    "            'good looking':'style',\n",
    "            'modern':'style','sleek':'style'}\n",
    "\n",
    "\n",
    "#use luxury\n",
    "luxurywords={'highend':'luxury','high end':'luxury',\n",
    "             'luxurious':'luxury','expensive':'luxury',\n",
    "             'fancy':'luxury','fancier':'luxury',\n",
    "             'grand':'luxury', 'high-end':'style'}\n",
    "#Use comfort\n",
    "comfortwords={'comfortable':'comfort','convenience':'comfort',\n",
    "              'convenient':'comfort','comfy':'comfort',\n",
    "              'cozy':'comfort','good cup holders':'comfort','spacious cup holders':'comfort',\n",
    "              'good cup-holders':'comfort','spacious cup-holders':'comfort'}\n",
    "#use price\n",
    "costwords={'cheap':'price','prices':'price',\n",
    "           'pricing':'price','economic':'price',\n",
    "           'costeffective':'price','lease':'price',\n",
    "           'rent':'price','money':'price',\n",
    "           'good price':'price','good pricing':'price',\n",
    "           'good listing':'price','sale':'price',\n",
    "           'economical':'price','affordable':'price',\n",
    "           'cost-effective':'price','cost effective':'price'\n",
    "          \n",
    "          }\n",
    "#usespace\n",
    "bigwords={'big':'space','wide':'space','wider':'space',\n",
    "          'bigger':'space','larger':'space','spacious':'space',\n",
    "          'huge':'space','legspace':'space',\n",
    "          'bigger':'space','large':'space',\n",
    "          'leg-space':'space','leg room':'space',\n",
    "          'open':'space'        \n",
    "         }\n",
    "#use safety\n",
    "safewords={'safe':'safety','safer':'safety','tested':'safety',\n",
    "           'test':'safety','crash-test':'safety','crash test':'safety',\n",
    "           'safety score':'safety','reliable':'safety',\n",
    "           'reliability':'safety'\n",
    "          \n",
    "          }\n",
    "\n",
    "df_a['Posts'].replace(performwords, inplace=True, regex=True)\n",
    "df_a['Posts'].replace(stylewords, inplace=True, regex=True)\n",
    "df_a['Posts'].replace(luxurywords, inplace=True, regex=True)\n",
    "df_a['Posts'].replace(costwords, inplace=True, regex=True)\n",
    "df_a['Posts'].replace(bigwords, inplace=True, regex=True)\n",
    "df_a['Posts'].replace(safewords, inplace=True, regex=True)\n",
    "df_a['Posts'].replace(comfortwords, inplace=True, regex=True)\n",
    "df_a['Posts'].replace({\"MERCEDESs\":\"MERCEDES\"}, inplace=True, regex=True)\n",
    "# df_a['Posts'].replace(influencewords, inplace=True, regex=True)\n",
    "\n",
    "df_a['Posts'] = df_a['Posts'].apply(model_to_capbrand)\n",
    "\n",
    "df_a['Tokens'] = df_a['Posts'].apply(word_tokenize)\n",
    "stop_words.update(['thing','anything','much','something','My','We','my','we','year','day','get','dealer','way','would','like','car','cars','time','way','dealer','lot','point','course','im','dont','doesnt','drive','model','brand'])\n",
    "df_a['Tokens'] = df_a['Tokens'].apply(remove_stopwords)\n",
    "df_a.head()"
   ]
  },
  {
   "cell_type": "code",
   "execution_count": null,
   "metadata": {},
   "outputs": [],
   "source": [
    "# Apply POS tagging\n",
    "tagList=[]\n",
    "for com in df_a['Tokens']:\n",
    "    tagged = nltk.pos_tag(com) \n",
    "    tagList.append(tagged)\n",
    "print(\"The POS tagging results are : %s\" % format(tagList[0]))\n",
    "\n",
    "# Flattening into a bag of words\n",
    "wordSoup = [y for x in tagList for y in x]\n",
    "\n",
    "# Getting most common Proper nouns and common/abstract nouns\n",
    "nounList = [word for word in wordSoup if word[1]=='NNP']\n",
    "adjectiveList = [word for word in wordSoup if (word[1]=='NN')]\n",
    "nouncountList = Counter(nounList)\n",
    "print(\"The most common Proper Nouns are : %s\" % format(nouncountList.most_common(5)))\n",
    "print(\"------------\")\n",
    "# Most common attributes\n",
    "adjcountList = Counter(adjectiveList)\n",
    "print(\"The most common adjectives are : %s\" % format(adjcountList.most_common(5)))\n",
    "print(\"------------\")\n",
    "\n",
    "brandList = ['ACURA','AUDI','BMW','CADILLAC','MERCEDES']\n",
    "attributeList = ['luxury','performance','space','price','safety']\n",
    "\n",
    "# Lift scores for top 5 brands\n",
    "lift_scores={}\n",
    "for i in brand_attri_count(brandList, df_a, attributeList):\n",
    "    for k,num in i[2]:\n",
    "        lift_scores[(k[0],k[1])] = calculate_lift(k[0],k[1], num,i[1],i[0])\n",
    "sorted_lifts = sorted(lift_scores.items(), key=lambda kv: kv[1], reverse=True)\n",
    "print(\"The sorted Lift scores for top 5 brands are : %s\" % sorted_lifts)"
   ]
  },
  {
   "cell_type": "code",
   "execution_count": null,
   "metadata": {},
   "outputs": [],
   "source": [
    "# Plotting dicts for the MDS map\n",
    "plotarr={}\n",
    "for b in brandList:\n",
    "    plotarr[b]=[]\n",
    "for i in lift_scores:\n",
    "    plotarr[i[0]].append(lift_scores[i])\n",
    "\n",
    "fig = plt.figure(figsize=(12,12))\n",
    "ax = fig.add_subplot(111)\n",
    "colors = (\"red\", \"green\", \"blue\",\"black\",\"orange\")\n",
    "groups = plotarr.keys()\n",
    "\n",
    "for lift, color, group in zip(plotarr, colors, groups):\n",
    "#     plt.scatter(attributeList,plotarr[lift])\n",
    "#     ax.scatter(attributeList, plotarr[lift])\n",
    "    ax.scatter(attributeList, plotarr[lift], alpha=0.8, c=color, edgecolors='none', label=group)\n",
    "\n",
    "plt.xlabel('Combinations')\n",
    "plt.ylabel('Lift Score')\n",
    "plt.legend(loc=1)\n",
    "plt.show()"
   ]
  },
  {
   "cell_type": "markdown",
   "metadata": {},
   "source": [
    "## Task D \n",
    "\n",
    "All of these recommendations are based on the lift value calculations above. The top 5 brands that were mentioned by users within the Edmunds post is Acura, Audi, BMW, Cadillac, and Mercedes. Some notable brands missing are Ford, Toyota, Nissan, Infiniti. Also, we had eight groups of word associations. The eight-word associations are luxury, performance, style, price, space, influence, aspirational, and comfort. We calculated mentions that included all of the models that are part of a brand’s portfolio. For example, if “m3” is mentioned, we equate “m3” with “BMW.” Also, we didn’t have a lot of variance in our lift values. The max and min of the Lift values from Task C were 2.107 and 1.3599. The lack of variance in our lift values between the top 5 brands and the top 5-word associations was somewhat surprising. We expected to have a maximum lift value of 4 and a minimum lift value of 0.2.\n",
    " \n",
    "For nearly all the advertising manager and product manager recommendations, we followed these guidelines. In general, if a lift value for a brand and an attribute is higher than the average lift value, we recommend marketing managers to portray/associate their brand with those attributes. If a lift value for a brand and an attribute is lower than average, we urge product managers to improve the aspect of their product that is associated with that attribute.\n",
    "\n",
    "\n",
    "### Mercedes Benz \n",
    "\n",
    "#### Product Manager\n",
    "\n",
    "Luckily for the Product Manager, Mercedes has the highest overall lift values. However, the weakness of the top 5 attributes mentioned in the Edmund forum is performance. Therefore, we recommend Mercedes Benz to improve upon their sourcing or engineering of their internal components. \n",
    "\n",
    "#### Advertising Manager\n",
    "\n",
    "Mercedes is known for being luxurious, safe, and spacious in the Edmunds forums. We recommend Mercedes to continue their campaigns. Mercedes lift values in luxury, safety, and space. However, we recommend that Mercedes highlight their top of the line safety features, while still advertising about the luxurious and spacious Mercedes Benz vehicles. This is due to consumers associating Mercedes Benz with Safety than with the next brand by .15, which is the most substantial difference between the 1st and 2nd place brand for all of the top 5 attributes.\n",
    "\n",
    "### Acura\n",
    "\n",
    "#### Product Manager\n",
    "\n",
    "Acura is the second-highest performing brand out of the top 5 brands in the Edmunds forum. However, we recommend Acura to work on their components and engineering of their vehicles, because consumers view their performance as the least satisfactory part of Acura out of the lift values involving luxury, space, influence, price, performance, and style. Understandably, this is the most challenging category to improve, because ca manufacturing is a low margin business. \n",
    "\n",
    "#### Marketing Manager\n",
    "\n",
    "Overall, Acura is the second-highest lift values for all categories. So, we recommend that Acura align its marketing with its primary target market desires. We recommend to make a better imitation of the Mercedes Benz advertising campaign, so you all can obtain their customers. This is due to Mercedes Benz having very similar lift values as Acura in “Luxury,” ”Safety,” and “Space.” \n",
    "\n",
    "### Audi\n",
    "\n",
    "#### Product Manager\n",
    "\n",
    "\n",
    "Unfortunately, consumers don’t associate Audi with affordable vehicles. Further, the lift value of “Audi + Price” has the lowest association out of all of the brand associations with features. However, the attribute with the least path of resistance to change is the perception is “Luxury” because we believe it will be less costly to increase the association of luxury versus price. \n",
    "\n",
    "#### Marketing Manager \n",
    "\n",
    "Audi has moderate associations with safety, space, luxury, and performance. These moderate associations make it difficult for an advertiser to create an ad campaign because Audi has a moderate association with all of these values. Therefore, we recommend imitating some of the Mercedes Benz advertising campaign, because they’re “lift leader” in your category.\n",
    "\n",
    "### BMW \n",
    "\n",
    "#### Product Manager \n",
    "\n",
    "Unfortunately, BMW has the lowest overall lift scores out of all of the top 5 brands in the Edmunds Sedan Forum. Specifically, BMW has mediocre lift values in price, space, and safety. Given that BMW is associated mostly manufactures small and mid-size sedans. It’s acceptable that BMW isn’t associated with space. However, we believe BMW should improve the safety ratings in their vehicles. Since BMW is known to have fast cars; they’re more likely to get into accidents. Therefore, if you improve the safety rating in their vehicle. Consumers almost wreck or (unfortunately) wreck their BMW will rave about the safety quality of cars, and it won’t affect the perception of BMW being a premium brand.  \n",
    "\n",
    "#### Marketing Manager \n",
    "\n",
    "BMW is known for getting a high-performance vehicle while being luxurious, according to the lift values. Therefore, BMW should pursue advertising options associated with luxury and performance. We don’t recommend imitating all portions of the Mercedes Benz marketing campaign. However, we believe there might be a few things BMW can imitate from Mercedes Benz. \n",
    "\n",
    "### Cadillac \n",
    "\n",
    "#### Product Manager \n",
    "\n",
    "We strongly recommend that Cadillac should improve its vehicle performance. Specifically, they should improve their internal components with increased R&D spending or increase spending on sourcing their products with suppliers. Understandably, this recommendation will be challenging for General Motors to implement, because Car manufacturing is a low margin industry. However, it’s evident in our lift analysis that Cadillac isn’t associated with well-performing vehicles.\n",
    "\n",
    "#### Marketing Manager \n",
    "\n",
    "We recommend Cadillac to develop lots of tv promotions similar to Audi, Mercedes, and Acura, because of consumers associating Cadillac with space and luxury. Specifically, Cadillac is associated with luxury more than all of the top 5 most popular brands in the forum. Therefore, we recommend that Cadillac capitalize on advertising itself as the “American Luxury brand.” Globally, and within America, “#1 Luxury Car Brand in America.”"
   ]
  },
  {
   "cell_type": "markdown",
   "metadata": {},
   "source": [
    "## Task E\n",
    "\n",
    "### Most Aspirational Brand"
   ]
  },
  {
   "cell_type": "code",
   "execution_count": null,
   "metadata": {
    "scrolled": true
   },
   "outputs": [],
   "source": [
    "aspiration = {\"dream\":\"aspiration\",\"dreamt\":\"aspiration\",\"dreamed\":\"aspiration\",\"dreaming\":\"aspiration\",\"wish\":\"aspiration\",\"couldn't afford\":\"aspiration\",\"love to buy\":\"aspiration\",\"best\":\"aspiration\",\"wanted\":\"aspiration\",\"future car\":\"aspiration\",\"want to\":\"aspiration\",\"desire\":\"aspiration\",\"desired\":\"aspiration\",\"buy\":\"aspiration\",\"purchase\":\"aspiration\",\"will\":\"aspiration\"}\n",
    "df_a['Posts'].replace(aspiration, inplace=True, regex=True)\n",
    "attributeList = ['aspiration']\n",
    "brandList = [i[0] for i,j in nouncountList.most_common(10)]\n",
    "lift_scores={}\n",
    "for i in brand_attri_count(brandList, df_a, attributeList):\n",
    "    for k,num in i[2]:\n",
    "        lift_scores[(k[0],k[1])] = calculate_lift(k[0],k[1],num,i[1],i[0])\n",
    "    \n",
    "sorted_lifts = sorted(lift_scores.items(), key=lambda kv: kv[1], reverse=True)\n",
    "sorted_lifts\n"
   ]
  },
  {
   "cell_type": "code",
   "execution_count": null,
   "metadata": {},
   "outputs": [],
   "source": [
    "plotarr={}\n",
    "for b in brandList:\n",
    "    plotarr[b]=[]\n",
    "for i in lift_scores:\n",
    "    plotarr[i[0]].append(lift_scores[i])\n",
    "\n",
    "fig = plt.figure(figsize=(8,8))\n",
    "ax = fig.add_subplot(111)\n",
    "colors = (\"red\", \"green\", \"blue\",\"black\",\"orange\")\n",
    "groups = plotarr.keys()\n",
    "\n",
    "for lift, color, group in zip(plotarr, colors, groups):\n",
    "#     plt.scatter(attributeList,plotarr[lift])\n",
    "#     ax.scatter(attributeList, plotarr[lift])\n",
    "    ax.scatter(attributeList, plotarr[lift], alpha=0.8, c=color, edgecolors='none', label=group)\n",
    "\n",
    "plt.xlabel('Combinations')\n",
    "plt.ylabel('Lift Score')\n",
    "plt.legend(loc=1)\n",
    "plt.show()"
   ]
  },
  {
   "cell_type": "markdown",
   "metadata": {},
   "source": [
    "### Analysis\n",
    "\n",
    "We measured aspirational as a person expressing that they loved, wished or dreamed to buy a vehicle for certain brands within the forum. We decided to include the top 10 brands calculated in Task A, because we believed all of the brands have enough popularity to accurately determine if the brand is truly aspirational. We determined that the following words would allow us to calculate a lift values for all brands affiliated with aspiration, “dream”, ”dreamt”, ”dreamed” ,“dreaming”, ”wish”, ”couldn’t afford” ,“love to buy”, ”best”, ”wanted”, “future car”, ”want to”, ”desire”, ”desired”, ”buy”, ”purchase”, and ”will”. A higher lift value denotes people have a higher aspiration for the brand. \n",
    "\n",
    "Based on our lift scores from brand associations with aspirational words, Ford is the most aspirational brand. We find this slightly surprising, since Ford isn’t mentioned frequently within the Edmunds Forum compared to Mercedes Benz, Acura, Cadillac, and Audi. The largest business implication for this lift analysis is Ford has highly sought-after sedans. We find this implication surprising, because Ford is known for their Trucks in America. For example, the Ford F-150 (truck) is the highest sold vehicle in the United States. Therefore, the majority of American consumers associate Ford with Trucks and not sedans. Based on these facts, we assumed people wouldn’t care about Ford Sedans like the Ford Focus, Ford Fusion or the Ford Taurus.\n",
    "\tIf we expand on this implication. It could mean Ford could potentially obtain competitors consumers in the Sedan market, or Ford needs to spend more money on marketing to expand the number of consumers who own a Ford Sedan or they need to make more vehicles or they can expand their sedan offerings into the luxury category. All of these suggested implications mean Ford could easily expand their consumer base in the American sedan market by either more marketing, building more vehicles or expanding their product-line offerings. Further, these implications align with our recommendations for Ford in Task B, where they should look into expanding in the entry-level luxury sedans. \n",
    "\tOverall, it sounds like Ford has a healthy future if they capitalize on these opportunities in the American Sedan Market, because they’re highly sought after by the average American consumer who talks about Ford.\n"
   ]
  },
  {
   "cell_type": "code",
   "execution_count": null,
   "metadata": {},
   "outputs": [],
   "source": []
  }
 ],
 "metadata": {
  "kernelspec": {
   "display_name": "Python 3",
   "language": "python",
   "name": "python3"
  },
  "language_info": {
   "codemirror_mode": {
    "name": "ipython",
    "version": 3
   },
   "file_extension": ".py",
   "mimetype": "text/x-python",
   "name": "python",
   "nbconvert_exporter": "python",
   "pygments_lexer": "ipython3",
   "version": "3.7.3"
  }
 },
 "nbformat": 4,
 "nbformat_minor": 2
}
