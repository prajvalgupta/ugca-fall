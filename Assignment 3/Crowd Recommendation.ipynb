{
 "cells": [
  {
   "cell_type": "code",
   "execution_count": 85,
   "metadata": {},
   "outputs": [],
   "source": [
    "from selenium import webdriver\n",
    "import pandas as pd"
   ]
  },
  {
   "cell_type": "code",
   "execution_count": 86,
   "metadata": {},
   "outputs": [],
   "source": [
    "driver = webdriver.Chrome('/Users/prajvalgupta/Downloads/chromedriver 2')"
   ]
  },
  {
   "cell_type": "code",
   "execution_count": 111,
   "metadata": {},
   "outputs": [],
   "source": [
    "from selenium import webdriver\n",
    "from selenium.webdriver.common.by import By\n",
    "from selenium.webdriver.support.ui import WebDriverWait\n",
    "from selenium.webdriver.support import expected_conditions as EC\n",
    "import time\n",
    "import csv\n",
    "\n",
    "driver = webdriver.Chrome('/Users/prajvalgupta/Downloads/chromedriver 2')\n",
    "\n",
    "beer_dict={}\n",
    "driver.get('https://www.beeradvocate.com/beer/top-rated/')\n",
    "beer_profiles=[]\n",
    "beer_profile=driver.find_element_by_xpath('//div[@id=\"ba-content\"]/table/tbody/tr[2]/td[2]/a')\n",
    "# print(beer_profile.get_attribute('href'))\n",
    "for i in range(2,252):\n",
    "    beer=driver.find_element_by_xpath('//div[@id=\"ba-content\"]/table/tbody/tr['+str(i)+']/td[2]/a')\n",
    "    beer_name=driver.find_element_by_xpath('//div[@id=\"ba-content\"]/table/tbody/tr['+str(i)+']/td[2]/a/b').text\n",
    "    beer_dict[beer_name]=beer.get_attribute('href')\n",
    "\n",
    "driver.close()\n",
    "\n",
    "comments = pd.DataFrame(columns = ['Product Name','Product Rating','Product Review']) \n",
    "\n",
    "try:\n",
    "    for key,value in beer_dict.items():\n",
    "        driver = webdriver.Chrome('/Users/prajvalgupta/Downloads/chromedriver 2')\n",
    "        driver.get(value)\n",
    "        reviews = driver.find_elements_by_xpath('//div[@id=\"rating_fullview_content_2\"]')\n",
    "        for review in reviews:\n",
    "            review_text = review.text\n",
    "\n",
    "            rating = review.find_element_by_xpath('.//span[1]').text\n",
    "            extra1 = review.find_element_by_xpath('.//span[2]').text\n",
    "            extra2 = review.find_element_by_xpath('.//span[3]').text\n",
    "            extra3 = review.find_element_by_xpath('.//span[4]').text\n",
    "            extra4 = review.find_element_by_xpath('.//span[5]').text\n",
    "            extra5 = review.find_element_by_xpath('.//div').text\n",
    "\n",
    "            if extra3:\n",
    "                review_text = review_text.replace(extra3,\"\")\n",
    "            if extra1:\n",
    "                review_text = review_text.replace(extra1,\"\")\n",
    "            if extra2:\n",
    "                review_text = review_text.replace(extra2,\"\")\n",
    "            if extra4:\n",
    "                review_text = review_text.replace(extra4,\"\")\n",
    "            if extra5:\n",
    "                review_text = review_text.replace(extra5,\"\")\n",
    "\n",
    "    #         print(review_text)\n",
    "\n",
    "            comments.loc[len(comments)] = [key,rating,review_text]\n",
    "\n",
    "        driver.close()\n",
    "except:\n",
    "    pass"
   ]
  },
  {
   "cell_type": "code",
   "execution_count": 113,
   "metadata": {},
   "outputs": [],
   "source": [
    "comments.to_csv(\"product_reviews.csv\")"
   ]
  },
  {
   "cell_type": "code",
   "execution_count": null,
   "metadata": {},
   "outputs": [],
   "source": []
  }
 ],
 "metadata": {
  "kernelspec": {
   "display_name": "Python 3",
   "language": "python",
   "name": "python3"
  },
  "language_info": {
   "codemirror_mode": {
    "name": "ipython",
    "version": 3
   },
   "file_extension": ".py",
   "mimetype": "text/x-python",
   "name": "python",
   "nbconvert_exporter": "python",
   "pygments_lexer": "ipython3",
   "version": "3.7.3"
  }
 },
 "nbformat": 4,
 "nbformat_minor": 2
}
